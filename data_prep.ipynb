{
 "cells": [
  {
   "cell_type": "code",
   "execution_count": 2,
   "metadata": {},
   "outputs": [],
   "source": [
    "import numpy as np\n",
    "from numpy.lib.stride_tricks import sliding_window_view as windows\n",
    "import pandas as pd\n",
    "from einops import rearrange, repeat\n",
    "from datetime import timedelta\n",
    "from datetime import datetime\n",
    "from tqdm import tqdm\n",
    "from numpy import ma"
   ]
  },
  {
   "cell_type": "code",
   "execution_count": null,
   "metadata": {},
   "outputs": [],
   "source": [
    "df = pd.read_csv('data/Hunter_U2_5minData_MASTER.csv').replace(-99999.000000, np.NaN).dropna()\n",
    "manipcols = pd.read_csv('data/manip_cols.csv')\n",
    "inputcols = pd.read_csv('data/input_cols.csv')\n",
    "target = ['KLBH_PER_MW_ONTIME']\n",
    "manip_cols = [row[1].upper() for row in manipcols.values]\n",
    "input_cols = [row[1].upper() for row in inputcols.values]\n",
    "df.columns = df.columns.str.upper()\n",
    "df = df.loc[:, input_cols]\n",
    "df.describe()"
   ]
  },
  {
   "cell_type": "code",
   "execution_count": null,
   "metadata": {},
   "outputs": [],
   "source": [
    "df['DATE_TIME'] = pd.to_datetime(df['DATE_TIME'], errors='coerce')\n",
    "df[\"HOUR\"] = df[\"DATE_TIME\"].dt.hour\n",
    "df.insert(0, 'HOUR', df.pop('HOUR'))\n",
    "df[\"DAY\"] = df[\"DATE_TIME\"].dt.day\n",
    "df.insert(0, 'DAY', df.pop('DAY'))\n",
    "df[\"MONTH\"] = df[\"DATE_TIME\"].dt.month\n",
    "df.insert(0, 'MONTH', df.pop('MONTH'))\n",
    "df.index = pd.DatetimeIndex(df.pop('DATE_TIME'))\n",
    "print(df.shape)\n",
    "df.head()"
   ]
  },
  {
   "cell_type": "code",
   "execution_count": null,
   "metadata": {},
   "outputs": [],
   "source": [
    "idxs = df.index\n",
    "td = timedelta(minutes=5)\n",
    "m1 = timedelta(minutes=1)\n",
    "maxstep = timedelta(minutes=6)\n",
    "addnans = [(i, ((idxs[i+1] - idxs[i])//td)-1) for i in tqdm(range(len(idxs)-1)) if idxs[i+1] - idxs[i] > maxstep]\n",
    "print(len(addnans))\n",
    "print('addnans', addnans)"
   ]
  },
  {
   "cell_type": "code",
   "execution_count": null,
   "metadata": {},
   "outputs": [],
   "source": [
    "idxs2 = []\n",
    "idxs3 = []\n",
    "for i, l in addnans:\n",
    "    idx = idxs[i]\n",
    "    if l < 4:\n",
    "        for j in range(l):\n",
    "            idx += td\n",
    "            idxs2.append(idx)\n",
    "    else:\n",
    "        for j in range(l):\n",
    "            idx += td\n",
    "            idxs3.append(idx)\n",
    "\n",
    "print(len(idxs2), len(idxs3), sum((len(idxs2), len(idxs3))))"
   ]
  },
  {
   "cell_type": "code",
   "execution_count": null,
   "metadata": {},
   "outputs": [],
   "source": [
    "repline2 = -99999.000000 * np.ones((len(idxs2), df.shape[1]))\n",
    "df2 = pd.DataFrame(repline2, columns=df.columns, index=idxs2)\n",
    "repline3 = -99999.000000 * np.ones((len(idxs3), df.shape[1]))\n",
    "df3 = pd.DataFrame(repline3, columns=df.columns, index=idxs3)\n",
    "print(df2.shape, df3.shape)\n",
    "df2.head()"
   ]
  },
  {
   "cell_type": "code",
   "execution_count": null,
   "metadata": {},
   "outputs": [],
   "source": [
    "df = pd.concat([df, df2]).sort_index().replace(-99999.000000, np.NaN)\n",
    "df = df.interpolate(method='linear')\n",
    "df = pd.concat([df, df3]).sort_index().replace(-99999.000000, np.NaN)\n",
    "del df2, df3, addnans\n",
    "print(df.shape)\n",
    "df.head()"
   ]
  },
  {
   "cell_type": "code",
   "execution_count": null,
   "metadata": {},
   "outputs": [],
   "source": [
    "df = df.reset_index(drop=True)\n",
    "df_fitter = df.loc[df['KLBH_PER_MW_ONTIME'] < 1.2]\n",
    "df_fitter = df_fitter.loc[df_fitter['KLBH_PER_MW_ONTIME'] > 0.8].dropna()\n",
    "mins = df_fitter.min()\n",
    "maxs = df_fitter.max()\n",
    "\n",
    "df = (df-mins)/(maxs-mins)\n",
    "mins.to_csv('data/minsU2.csv')\n",
    "maxs.to_csv('data/maxsU2.csv')\n",
    "del mins\n",
    "del maxs\n",
    "\n",
    "df.to_csv('data/scaled_U2_data.csv')\n",
    "df.describe()"
   ]
  },
  {
   "cell_type": "code",
   "execution_count": 2,
   "metadata": {},
   "outputs": [],
   "source": [
    "df = pd.read_csv('data/scaled_U2_data.csv')\n",
    "x1 = np.array(df)\n",
    "del df\n",
    "x = rearrange(windows(x1, [22, x1.shape[1]], axis=[0, 1]), 'b 1 h w -> b h w')"
   ]
  },
  {
   "cell_type": "code",
   "execution_count": 6,
   "metadata": {},
   "outputs": [
    {
     "name": "stdout",
     "output_type": "stream",
     "text": [
      "(220952, 22, 249)\n",
      "[[ True  True  True ...  True  True  True]\n",
      " [ True  True  True ...  True  True  True]\n",
      " [ True  True  True ...  True  True  True]\n",
      " ...\n",
      " [ True  True  True ...  True  True  True]\n",
      " [ True  True  True ...  True  True  True]\n",
      " [ True  True  True ...  True  True  True]]\n"
     ]
    }
   ],
   "source": [
    "mask = np.array([np.all(np.all(x[xi, :, -1] <= 1) >= 0) and np.all(x[xi, :, :] == x[xi, :, :]) for xi in range(x.shape[0])])\n",
    "mask = repeat(mask, 'a -> a b c', b=22, c=249)"
   ]
  },
  {
   "cell_type": "code",
   "execution_count": 9,
   "metadata": {},
   "outputs": [
    {
     "name": "stdout",
     "output_type": "stream",
     "text": [
      "(220952, 22, 249)\n",
      "(220952, 22, 249)\n"
     ]
    }
   ],
   "source": [
    "print(x.shape)\n",
    "x2 = ma.masked_array(x, mask)\n",
    "print(x2.shape)"
   ]
  },
  {
   "cell_type": "code",
   "execution_count": 10,
   "metadata": {},
   "outputs": [
    {
     "name": "stdout",
     "output_type": "stream",
     "text": [
      "True\n",
      "True\n",
      "True\n"
     ]
    }
   ],
   "source": [
    "print(np.shares_memory(x, x1))\n",
    "print(np.shares_memory(x, x2))\n",
    "print(np.shares_memory(x1, x2))"
   ]
  },
  {
   "cell_type": "code",
   "execution_count": 3,
   "metadata": {},
   "outputs": [],
   "source": [
    "df = pd.read_csv('data/scaled_U2_data.csv')\n",
    "df = df.rolling(22, 22, )\n"
   ]
  },
  {
   "cell_type": "code",
   "execution_count": 6,
   "metadata": {},
   "outputs": [
    {
     "name": "stdout",
     "output_type": "stream",
     "text": [
      "2\n",
      "None\n"
     ]
    }
   ],
   "source": [
    "print(print(df.ndim))"
   ]
  },
  {
   "cell_type": "code",
   "execution_count": null,
   "metadata": {},
   "outputs": [],
   "source": []
  }
 ],
 "metadata": {
  "kernelspec": {
   "display_name": "plant_proj_venv",
   "language": "python",
   "name": "python3"
  },
  "language_info": {
   "codemirror_mode": {
    "name": "ipython",
    "version": 3
   },
   "file_extension": ".py",
   "mimetype": "text/x-python",
   "name": "python",
   "nbconvert_exporter": "python",
   "pygments_lexer": "ipython3",
   "version": "3.10.11"
  },
  "orig_nbformat": 4
 },
 "nbformat": 4,
 "nbformat_minor": 2
}
