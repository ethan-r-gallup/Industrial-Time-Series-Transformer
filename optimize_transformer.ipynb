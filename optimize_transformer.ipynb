{
 "cells": [
  {
   "cell_type": "code",
   "execution_count": 1,
   "metadata": {},
   "outputs": [
    {
     "name": "stdout",
     "output_type": "stream",
     "text": [
      "Num GPUs Available:  1\n"
     ]
    }
   ],
   "source": [
    "import numpy as np\n",
    "from typing import Tuple, Dict\n",
    "np.set_printoptions(edgeitems=30, linewidth=100000, \n",
    "    formatter=dict(float=lambda x: \"%.3g\" % x))\n",
    "import matplotlib.pyplot as plt\n",
    "import pandas as pd\n",
    "from keras.callbacks import EarlyStopping, ModelCheckpoint\n",
    "from einops import rearrange, repeat\n",
    "from ToApps.to_apps import to_slack\n",
    "import tensorflow as tf\n",
    "from tensorflow.math import logical_not\n",
    "from ktfuncs import kt_transformer\n",
    "from builderfuncs import restore_model, EarlyStopAndSave\n",
    "import keras_tuner as kt\n",
    "\n",
    "\n",
    "df = pd.read_csv('data/scaled_U2_data.csv', index_col=0)\n",
    "df.drop(\"UNNAMED: 0\", axis=1, inplace=True)\n",
    "\n",
    "devices = tf.config.list_physical_devices('GPU')\n",
    "tf.config.experimental.set_memory_growth(devices[0], True)\n",
    "\n",
    "print(\"Num GPUs Available: \", len(devices))"
   ]
  },
  {
   "attachments": {},
   "cell_type": "markdown",
   "metadata": {},
   "source": [
    "## Data Prep Functions\n",
    "\n",
    ">#### ttv_split\n",
    "> Splits the data into training, validation and testing data based on the floats passed to it. train_split, val_split, and test_split should add to 1.\n",
    "\n",
    "> #### mask_window\n",
    "> applies a mask over the decoder label inputs for single step prediction training\n",
    "\n",
    "> #### split_window\n",
    "> splits the data into encoder_inputs, decoder_inputs, decoder_labels, and labels"
   ]
  },
  {
   "cell_type": "code",
   "execution_count": 2,
   "metadata": {},
   "outputs": [],
   "source": [
    "def ttv_split(ds: tf.data.Dataset, ds_size: int, \n",
    "              train_split: float = 0.8, \n",
    "              val_split: float = 0.1, \n",
    "              test_split: float = 0.1) -> Tuple[tf.data.Dataset, \n",
    "                                                tf.data.Dataset, \n",
    "                                                tf.data.Dataset]:\n",
    "\n",
    "    assert (train_split + test_split + val_split) == 1\n",
    "   \n",
    "    train_size = int(train_split * ds_size)\n",
    "    val_size = int(val_split * ds_size)\n",
    "    \n",
    "    train_ds = ds.take(train_size)    \n",
    "    val_ds = ds.skip(train_size).take(val_size)\n",
    "    test_ds = ds.skip(train_size).skip(val_size)\n",
    "    \n",
    "    return train_ds, val_ds, test_ds\n",
    "\n",
    "\n",
    "def mask_window(features: Tuple[Dict[tf.Tensor, tf.Tensor], tf.Tensor], \n",
    "                mask: tf.Tensor) -> Tuple[Dict[tf.Tensor, tf.Tensor], \n",
    "                                          tf.Tensor]:\n",
    "    inputs = features[0]\n",
    "    labels = features[1]\n",
    "    decoder_labels = tf.einsum('tf,t->tf', labels, mask)\n",
    "    mask = repeat(mask, 'i -> 1 i j', j=labels.shape[-2])\n",
    "    mask = tf.math.minimum(mask, rearrange(mask, '1 i j -> 1 j i'))\n",
    "    decoder_labels.set_shape([12, None])\n",
    "    mask.set_shape([None, 12, 12])\n",
    "    inputs.update({'decoder_labels':decoder_labels,\n",
    "                   'attention_mask':mask})\n",
    "    return inputs, labels\n",
    "\n",
    "\n",
    "def split_window(features: tf.Tensor) -> Tuple[Dict[tf.Tensor, tf.Tensor],\n",
    "                                               tf.Tensor]:\n",
    "    encoder_input = features[:12, 1:]\n",
    "    decoder_input = features[11:, 1:75]\n",
    "    labels = rearrange(features[11:, 0], 'a -> a 1')\n",
    "    encoder_input.set_shape([12, 247])\n",
    "    decoder_input.set_shape([12, 74])\n",
    "    labels.set_shape([12, None])\n",
    "    \n",
    "\n",
    "    return {'encoder_inputs':encoder_input, 'decoder_inputs':decoder_input}, labels\n",
    "\n",
    "                        \n",
    "def make_dataset(data: pd.DataFrame, length: int, \n",
    "                 batch_size: int = 64, multistep: bool = True) -> Tuple[tf.data.Dataset, \n",
    "                                                                        tf.data.Dataset, \n",
    "                                                                        tf.data.Dataset]:\n",
    "    data = np.array(data.iloc[:, :], dtype=np.float32)\n",
    "    ds = tf.keras.utils.timeseries_dataset_from_array(data=data,\n",
    "                                                        targets=None,\n",
    "                                                        sequence_length=length,\n",
    "                                                        sequence_stride=1,\n",
    "                                                        shuffle=True,\n",
    "                                                        seed=1,\n",
    "                                                        batch_size=None)\n",
    "\n",
    "    ds = ds.filter(lambda x: tf.reduce_all(logical_not(tf.math.is_nan(x))))\n",
    "    ds = ds.map(split_window)\n",
    "    if multistep == True:\n",
    "        nums = np.zeros(170680)\n",
    "    else:\n",
    "        nums = np.random.randint(0, length/2-1, 170680)\n",
    "    mask = tf.sequence_mask(nums, length/2, dtype=tf.float32)\n",
    "    maskds = tf.data.Dataset.from_tensor_slices(mask)\n",
    "    ds = tf.data.Dataset.zip((ds, maskds))\n",
    "    ds = ds.map(mask_window).batch(batch_size)\n",
    "    ds = ds.apply(tf.data.experimental.assert_cardinality(170680//batch_size + 1))\n",
    "    train_ds, val_ds, test_ds = ttv_split(ds, 170680//batch_size, train_split=0.8, val_split=0.1, test_split=0.1)\n",
    "    train_ds = train_ds\n",
    "    return train_ds, val_ds, test_ds"
   ]
  },
  {
   "cell_type": "code",
   "execution_count": 3,
   "metadata": {},
   "outputs": [],
   "source": [
    "import os\n",
    "import datetime\n",
    "logdir = os.path.join(\"logs\", datetime.datetime.now().strftime(\"%Y%m%d-%H%M%S\"))\n",
    "tensorboard_callback = tf.keras.callbacks.TensorBoard(logdir, histogram_freq=1)\n",
    "early_stopping_monitor = EarlyStopping(monitor='val_loss', patience=5, verbose=1, restore_best_weights=True)\n",
    "# train_print_callback = tf.keras.callbacks.LambdaCallback(on_train_begin=lambda logs: to_slack(f'{logs}'), \n",
    "#                                                          on_train_end=lambda logs: to_slack(f'{logs}'))\n",
    "\n",
    "filepath = \"best.h5\"\n",
    "checkpoint = ModelCheckpoint(filepath, monitor='loss', verbose=0, save_best_only=True, mode='min')\n",
    "train_data, val_data, test_data = make_dataset(df, 23, batch_size=64)"
   ]
  },
  {
   "cell_type": "code",
   "execution_count": 4,
   "metadata": {},
   "outputs": [],
   "source": [
    "from builderfuncs import save_whole_model\n",
    "from keras_tuner.engine import tuner_utils\n",
    "import GPUtil\n",
    "gpu = GPUtil.getGPUs()[0]\n",
    "from time import sleep\n",
    "from ToApps.to_apps import to_slack\n",
    "\n",
    "def _build_and_fit_model(self, trial, *args, **kwargs):\n",
    "    \"\"\"For AutoKeras to override.\n",
    "    DO NOT REMOVE this function. AutoKeras overrides the function to tune\n",
    "    tf.data preprocessing pipelines, preprocess the dataset to obtain\n",
    "    the input shape before building the model, adapt preprocessing layers,\n",
    "    and tune other fit_args and fit_kwargs.\n",
    "    Args:\n",
    "        trial: A `Trial` instance that contains the information needed to\n",
    "            run this trial. `Hyperparameters` can be accessed via\n",
    "            `trial.hyperparameters`.\n",
    "        *args: Positional arguments passed by `search`.\n",
    "        **kwargs: Keyword arguments passed by `search`.\n",
    "    Returns:\n",
    "        The fit history.\n",
    "    \"\"\"\n",
    "    \n",
    "    \n",
    "    string = f\"Transformer_trial_{trial.trial_id}\\n\"\n",
    "    string += \"------------------------------------------------\\n\"\n",
    "    if trial.hyperparameters.values:\n",
    "            for hp, value in trial.hyperparameters.values.items():\n",
    "                string += f\"{hp}: {value}\\n\"\n",
    "    \n",
    "    hp = trial.hyperparameters\n",
    "    model = self._try_build(hp)\n",
    "    results = self.hypermodel.fit(hp, model, *args, **kwargs)\n",
    "    tuner_utils.validate_trial_results(\n",
    "        results, self.oracle.objective, \"HyperModel.fit()\"\n",
    "    )\n",
    "    try:\n",
    "        path = os.path.join(\"transformerdir\", f\"trial_{trial.trial_id}\")\n",
    "        os.mkdir(path) \n",
    "    except FileExistsError:\n",
    "         pass\n",
    "    save_whole_model(model, f\"transformerdir/trial_{trial.trial_id}\")\n",
    "\n",
    "    string += \"------------------------------------------------\\n\"\n",
    "    result_dict = tuner_utils.convert_to_metrics_dict(results, self.oracle.objective)\n",
    "    string += f\"loss: {result_dict['loss']:.6f}, r2: {result_dict['r2']:.6f}\\n\"\n",
    "    string += f\"val_loss: {result_dict['val_loss']:.6f}, val_r2: {result_dict['val_r2']:.6f}\\n\"\n",
    "             \n",
    "    string += \"------------------------------------------------\\n\"\n",
    "    while GPUtil.getGPUs()[0].temperature > 89.0:\n",
    "        to_slack(str(GPUtil.getGPUs()[0].temperature))\n",
    "        sleep(10)\n",
    "    try:\n",
    "        to_slack(string)\n",
    "    except:\n",
    "         print(\"cannot connect to slack\")\n",
    "    \n",
    "    return results\n"
   ]
  },
  {
   "cell_type": "code",
   "execution_count": 5,
   "metadata": {},
   "outputs": [
    {
     "name": "stdout",
     "output_type": "stream",
     "text": [
      "INFO:tensorflow:Reloading Tuner from directory\\transformer_trial_1\\tuner0.json\n"
     ]
    }
   ],
   "source": [
    "import types\n",
    "tuner = kt.BayesianOptimization(kt_transformer,\n",
    "                                objective=kt.Objective('val_loss', 'min'),\n",
    "                                max_trials=200,\n",
    "                                directory='directory',\n",
    "                                project_name=\"transformer_trial_1\",\n",
    "                                seed=1)\n",
    "tuner._build_and_fit_model = types.MethodType(_build_and_fit_model, tuner)"
   ]
  },
  {
   "cell_type": "code",
   "execution_count": 6,
   "metadata": {},
   "outputs": [
    {
     "name": "stdout",
     "output_type": "stream",
     "text": [
      "Search space summary\n",
      "Default search space size: 20\n",
      "num_heads (Int)\n",
      "{'default': None, 'conditions': [], 'min_value': 4, 'max_value': 16, 'step': 2, 'sampling': 'linear'}\n",
      "lookback (Fixed)\n",
      "{'conditions': [], 'value': 12}\n",
      "n_features (Fixed)\n",
      "{'conditions': [], 'value': 247}\n",
      "n_manips (Fixed)\n",
      "{'conditions': [], 'value': 74}\n",
      "n_targs (Fixed)\n",
      "{'conditions': [], 'value': 1}\n",
      "horizon (Fixed)\n",
      "{'conditions': [], 'value': 12}\n",
      "ff_dim (Int)\n",
      "{'default': None, 'conditions': [], 'min_value': 8, 'max_value': 16, 'step': 4, 'sampling': 'linear'}\n",
      "ff_activ (Choice)\n",
      "{'default': 'linear', 'conditions': [], 'values': ['linear', 'relu', 'elu', 'selu', 'gelu', 'sigmoid', 'tanh'], 'ordered': False}\n",
      "num_encoders (Int)\n",
      "{'default': None, 'conditions': [], 'min_value': 1, 'max_value': 2, 'step': 1, 'sampling': 'linear'}\n",
      "num_decoders (Int)\n",
      "{'default': None, 'conditions': [], 'min_value': 1, 'max_value': 6, 'step': 1, 'sampling': 'linear'}\n",
      "mlp_layers (Int)\n",
      "{'default': None, 'conditions': [], 'min_value': 1, 'max_value': 4, 'step': 1, 'sampling': 'linear'}\n",
      "mlp_units (Int)\n",
      "{'default': None, 'conditions': [], 'min_value': 64, 'max_value': 256, 'step': 64, 'sampling': 'linear'}\n",
      "mlp_activ (Choice)\n",
      "{'default': 'linear', 'conditions': [], 'values': ['linear', 'relu', 'elu', 'selu', 'gelu', 'sigmoid', 'tanh'], 'ordered': False}\n",
      "mlp_dropout (Float)\n",
      "{'default': 0.1, 'conditions': [], 'min_value': 0.1, 'max_value': 0.7, 'step': 0.1, 'sampling': 'linear'}\n",
      "dropout (Float)\n",
      "{'default': 0.1, 'conditions': [], 'min_value': 0.1, 'max_value': 0.7, 'step': 0.1, 'sampling': 'linear'}\n",
      "out_activ (Choice)\n",
      "{'default': 'linear', 'conditions': [], 'values': ['linear', 'relu', 'elu', 'selu', 'gelu', 'sigmoid', 'tanh'], 'ordered': False}\n",
      "learning_rate (Fixed)\n",
      "{'conditions': [], 'value': 0.0001}\n",
      "beta_1 (Fixed)\n",
      "{'conditions': [], 'value': 0.85}\n",
      "beta_2 (Float)\n",
      "{'default': 0.99, 'conditions': [], 'min_value': 0.99, 'max_value': 0.999, 'step': 0.001, 'sampling': 'linear'}\n",
      "epsilon (Fixed)\n",
      "{'conditions': [], 'value': 1e-07}\n"
     ]
    }
   ],
   "source": [
    "tuner.search_space_summary()"
   ]
  },
  {
   "cell_type": "code",
   "execution_count": 7,
   "metadata": {},
   "outputs": [
    {
     "name": "stdout",
     "output_type": "stream",
     "text": [
      "Trial 200 Complete [00h 22m 36s]\n",
      "val_loss: 0.013428912498056889\n",
      "\n",
      "Best val_loss So Far: 0.0013977903872728348\n",
      "Total elapsed time: 3d 14h 38m 15s\n",
      "INFO:tensorflow:Oracle triggered exit\n"
     ]
    }
   ],
   "source": [
    "import traceback\n",
    "try:\n",
    "    tuner.search(train_data,\n",
    "                epochs=25,\n",
    "                verbose=2,\n",
    "                validation_data=val_data,\n",
    "                callbacks=[EarlyStopAndSave(filepath=\"model_folder\", patience=3, quickstop=\"val_r2\")])\n",
    "except:\n",
    "    # printing stack trace\n",
    "    for i in range(5):\n",
    "        to_slack(\"TRANSFORMER ERROR\")\n",
    "    traceback.print_exc()"
   ]
  },
  {
   "cell_type": "code",
   "execution_count": 26,
   "metadata": {},
   "outputs": [],
   "source": [
    "import json\n",
    "hyperparams = []\n",
    "for i in range(200):\n",
    "    try:\n",
    "        with open(f\"directory/transformer_trial_1/trial_{i:03}/trial.json\") as f:\n",
    "            parameters = json.load(f)\n",
    "        hyperparams.append(parameters)\n",
    "    except FileNotFoundError:\n",
    "        print(f\"trial_{i:03} not found\")"
   ]
  },
  {
   "cell_type": "code",
   "execution_count": 27,
   "metadata": {},
   "outputs": [],
   "source": [
    "i = 0\n",
    "while i < len(hyperparams):\n",
    "    if hyperparams[i][\"score\"] == None:\n",
    "        hyperparams.pop(i)\n",
    "        print(i)\n",
    "    else:\n",
    "        i += 1"
   ]
  },
  {
   "cell_type": "code",
   "execution_count": 28,
   "metadata": {},
   "outputs": [],
   "source": [
    "hyperparams = sorted(hyperparams, key=lambda x: x[\"score\"])"
   ]
  },
  {
   "cell_type": "code",
   "execution_count": 29,
   "metadata": {},
   "outputs": [
    {
     "name": "stdout",
     "output_type": "stream",
     "text": [
      "       num_heads    lookback    n_features    n_manips    n_targs    horizon    ff_dim  ff_activ      num_encoders    num_decoders    mlp_layers    mlp_units  mlp_activ      mlp_dropout    dropout  out_activ      learning_rate    beta_1    beta_2    epsilon       score\n",
      "---  -----------  ----------  ------------  ----------  ---------  ---------  --------  ----------  --------------  --------------  ------------  -----------  -----------  -------------  ---------  -----------  ---------------  --------  --------  ---------  ----------\n",
      "189           10          12           247          74          1         12        16  gelu                     2               4             1          128  relu                   0.1        0.1  linear                0.0001      0.85     0.991      1e-07  0.00139779\n",
      "126           14          12           247          74          1         12        12  gelu                     1               4             4          256  gelu                   0.1        0.1  elu                   0.0001      0.85     0.992      1e-07  0.0014105\n",
      "177           16          12           247          74          1         12        16  gelu                     2               2             1          128  sigmoid                0.6        0.1  gelu                  0.0001      0.85     0.999      1e-07  0.00154995\n",
      "109            6          12           247          74          1         12         8  linear                   1               3             1          256  relu                   0.1        0.1  relu                  0.0001      0.85     0.994      1e-07  0.00156711\n",
      "103           16          12           247          74          1         12        12  elu                      1               1             2          192  gelu                   0.2        0.3  selu                  0.0001      0.85     0.999      1e-07  0.0016229\n",
      "067           10          12           247          74          1         12         8  sigmoid                  1               6             1           64  selu                   0.3        0.1  linear                0.0001      0.85     0.99       1e-07  0.00164822\n",
      "187           16          12           247          74          1         12         8  selu                     2               6             1          192  linear                 0.1        0.1  relu                  0.0001      0.85     0.99       1e-07  0.00169595\n",
      "162            8          12           247          74          1         12         8  sigmoid                  1               1             3          256  gelu                   0.2        0.5  relu                  0.0001      0.85     0.99       1e-07  0.00176378\n",
      "158           16          12           247          74          1         12         8  selu                     2               6             1           64  elu                    0.5        0.1  selu                  0.0001      0.85     0.997      1e-07  0.00178841\n",
      "182           16          12           247          74          1         12        16  selu                     2               5             1          128  elu                    0.1        0.1  elu                   0.0001      0.85     0.994      1e-07  0.00183774\n",
      "083           12          12           247          74          1         12         8  tanh                     1               5             1          128  elu                    0.3        0.2  linear                0.0001      0.85     0.997      1e-07  0.00185624\n",
      "119            6          12           247          74          1         12        12  gelu                     1               6             1          128  sigmoid                0.4        0.1  gelu                  0.0001      0.85     0.996      1e-07  0.00191271\n",
      "166            8          12           247          74          1         12        16  gelu                     1               3             4          256  sigmoid                0.2        0.2  gelu                  0.0001      0.85     0.995      1e-07  0.00193299\n",
      "195           16          12           247          74          1         12        16  tanh                     1               2             3          128  gelu                   0.4        0.3  linear                0.0001      0.85     0.997      1e-07  0.00197372\n",
      "175            4          12           247          74          1         12        12  relu                     2               6             4          128  gelu                   0.1        0.2  gelu                  0.0001      0.85     0.991      1e-07  0.00206092\n",
      "068            6          12           247          74          1         12        12  linear                   1               3             3          256  selu                   0.5        0.1  linear                0.0001      0.85     0.994      1e-07  0.00207533\n",
      "051           10          12           247          74          1         12         8  relu                     2               2             1          256  sigmoid                0.1        0.1  linear                0.0001      0.85     0.99       1e-07  0.00208221\n",
      "049           14          12           247          74          1         12        16  selu                     1               5             2          128  tanh                   0.4        0.1  elu                   0.0001      0.85     0.99       1e-07  0.0020908\n",
      "012           12          12           247          74          1         12        12  sigmoid                  1               3             2          256  selu                   0.3        0.1  selu                  0.0001      0.85     0.99       1e-07  0.00220888\n",
      "123           14          12           247          74          1         12         8  tanh                     1               5             3          128  linear                 0.3        0.4  relu                  0.0001      0.85     0.991      1e-07  0.00234356\n",
      "140           10          12           247          74          1         12        12  sigmoid                  1               5             1          192  selu                   0.1        0.2  linear                0.0001      0.85     0.996      1e-07  0.00236004\n",
      "011            6          12           247          74          1         12        12  tanh                     2               5             4          128  gelu                   0.3        0.3  gelu                  0.0001      0.85     0.991      1e-07  0.00237081\n",
      "030            8          12           247          74          1         12        16  tanh                     1               6             4          128  linear                 0.1        0.3  relu                  0.0001      0.85     0.997      1e-07  0.00239654\n",
      "022           14          12           247          74          1         12         8  tanh                     1               1             4          256  elu                    0.1        0.6  selu                  0.0001      0.85     0.999      1e-07  0.00240847\n",
      "058            8          12           247          74          1         12        16  gelu                     2               3             2          192  elu                    0.4        0.2  relu                  0.0001      0.85     0.999      1e-07  0.00246311\n"
     ]
    }
   ],
   "source": [
    "table = []\n",
    "from tabulate import tabulate\n",
    "for i in range(25):\n",
    "    line = [hyperparams[i]['trial_id']]\n",
    "    for key in list(hyperparams[i]['hyperparameters']['values'].keys()):\n",
    "        line.append(hyperparams[i]['hyperparameters']['values'][key])\n",
    "    line.append(hyperparams[i]['score'])\n",
    "    table.append(line)\n",
    "headers = list(hyperparams[i]['hyperparameters']['values'].keys())\n",
    "headers.append('score')\n",
    "print(tabulate(table, headers=headers))\n"
   ]
  },
  {
   "cell_type": "code",
   "execution_count": 31,
   "metadata": {},
   "outputs": [],
   "source": [
    "model = restore_model('transformerdir/trial_189')"
   ]
  },
  {
   "cell_type": "code",
   "execution_count": 33,
   "metadata": {},
   "outputs": [
    {
     "name": "stdout",
     "output_type": "stream",
     "text": [
      "269/269 [==============================] - 29s 34ms/step - loss: 0.0011 - r2: 0.9764\n",
      "[0.001076683052815497, 0.9763739705085754]\n"
     ]
    }
   ],
   "source": [
    "print(model.evaluate(test_data))"
   ]
  },
  {
   "cell_type": "code",
   "execution_count": 34,
   "metadata": {},
   "outputs": [
    {
     "name": "stdout",
     "output_type": "stream",
     "text": [
      "17208/17208 [==============================] - 355s 20ms/step\n"
     ]
    }
   ],
   "source": [
    "import matplotlib.pyplot as plt\n",
    "test = test_data.unbatch().batch(1)\n",
    "preds = model.predict(test)\n"
   ]
  }
 ],
 "metadata": {
  "kernelspec": {
   "display_name": "plant_proj_venv",
   "language": "python",
   "name": "python3"
  },
  "language_info": {
   "codemirror_mode": {
    "name": "ipython",
    "version": 3
   },
   "file_extension": ".py",
   "mimetype": "text/x-python",
   "name": "python",
   "nbconvert_exporter": "python",
   "pygments_lexer": "ipython3",
   "version": "3.10.11"
  },
  "orig_nbformat": 4
 },
 "nbformat": 4,
 "nbformat_minor": 2
}
