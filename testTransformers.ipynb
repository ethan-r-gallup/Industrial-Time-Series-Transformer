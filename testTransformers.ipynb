{
 "cells": [
  {
   "cell_type": "code",
   "execution_count": 1,
   "metadata": {},
   "outputs": [
    {
     "name": "stdout",
     "output_type": "stream",
     "text": [
      "Num GPUs Available:  1\n"
     ]
    }
   ],
   "source": [
    "import numpy as np\n",
    "from typing import Tuple, Dict\n",
    "np.set_printoptions(edgeitems=30, linewidth=100000, \n",
    "    formatter=dict(float=lambda x: \"%.3g\" % x))\n",
    "import matplotlib.pyplot as plt\n",
    "import pandas as pd\n",
    "from keras.callbacks import EarlyStopping, ModelCheckpoint\n",
    "from einops import rearrange, repeat\n",
    "from ToApps.to_apps import to_slack\n",
    "import tensorflow as tf\n",
    "from tensorflow.math import logical_not\n",
    "from ktfuncs import kt_transformer\n",
    "from builderfuncs import restore_model, EarlyStopAndSave\n",
    "from builderfuncs import build_transformer, save_whole_model, restore_model\n",
    "from parameterdicts import TransformerParameters\n",
    "import keras_tuner as kt\n",
    "import os\n",
    "import datetime\n",
    "\n",
    "\n",
    "df = pd.read_csv('data/scaled_U2_data.csv', index_col=0)\n",
    "df.drop(\"UNNAMED: 0\", axis=1, inplace=True)\n",
    "\n",
    "devices = tf.config.list_physical_devices('GPU')\n",
    "tf.config.experimental.set_memory_growth(devices[0], True)\n",
    "\n",
    "print(\"Num GPUs Available: \", len(devices))"
   ]
  },
  {
   "cell_type": "code",
   "execution_count": 2,
   "metadata": {},
   "outputs": [],
   "source": [
    "def ttv_split(ds: tf.data.Dataset, ds_size: int, \n",
    "              train_split: float = 0.8, \n",
    "              val_split: float = 0.1, \n",
    "              test_split: float = 0.1) -> Tuple[tf.data.Dataset, \n",
    "                                                tf.data.Dataset, \n",
    "                                                tf.data.Dataset]:\n",
    "\n",
    "    assert (train_split + test_split + val_split) == 1\n",
    "   \n",
    "    train_size = int(train_split * ds_size)\n",
    "    val_size = int(val_split * ds_size)\n",
    "    \n",
    "    train_ds = ds.take(train_size)    \n",
    "    val_ds = ds.skip(train_size).take(val_size)\n",
    "    test_ds = ds.skip(train_size).skip(val_size)\n",
    "    \n",
    "    return train_ds, val_ds, test_ds\n",
    "\n",
    "\n",
    "def mask_window(features: Tuple[Dict[tf.Tensor, tf.Tensor], tf.Tensor], \n",
    "                mask: tf.Tensor) -> Tuple[Dict[tf.Tensor, tf.Tensor], \n",
    "                                          tf.Tensor]:\n",
    "    inputs = features[0]\n",
    "    labels = features[1]\n",
    "    decoder_labels = tf.einsum('tf,t->tf', labels, mask)\n",
    "    mask = repeat(mask, 'i -> 1 i j', j=labels.shape[-2])\n",
    "    mask = tf.math.minimum(mask, rearrange(mask, '1 i j -> 1 j i'))\n",
    "    decoder_labels.set_shape([12, None])\n",
    "    mask.set_shape([None, 12, 12])\n",
    "    inputs.update({'decoder_labels':decoder_labels,\n",
    "                   'attention_mask':mask})\n",
    "    return inputs, labels\n",
    "\n",
    "\n",
    "def split_window(features: tf.Tensor) -> Tuple[Dict[tf.Tensor, tf.Tensor],\n",
    "                                               tf.Tensor]:\n",
    "    encoder_input = features[:12, 1:]\n",
    "    decoder_input = features[11:, 1:75]\n",
    "    labels = rearrange(features[11:, 0], 'a -> a 1')\n",
    "    encoder_input.set_shape([12, 247])\n",
    "    decoder_input.set_shape([12, 74])\n",
    "    labels.set_shape([12, None])\n",
    "    \n",
    "\n",
    "    return {'encoder_inputs':encoder_input, 'decoder_inputs':decoder_input}, labels\n",
    "\n",
    "                        \n",
    "def make_dataset(data: pd.DataFrame, length: int, \n",
    "                 batch_size: int = 64, multistep: bool = True) -> Tuple[tf.data.Dataset, \n",
    "                                                                        tf.data.Dataset, \n",
    "                                                                        tf.data.Dataset]:\n",
    "    data = np.array(data.iloc[:, :], dtype=np.float32)\n",
    "    ds = tf.keras.utils.timeseries_dataset_from_array(data=data,\n",
    "                                                        targets=None,\n",
    "                                                        sequence_length=length,\n",
    "                                                        sequence_stride=1,\n",
    "                                                        shuffle=True,\n",
    "                                                        seed=1,\n",
    "                                                        batch_size=None)\n",
    "\n",
    "    ds = ds.filter(lambda x: tf.reduce_all(logical_not(tf.math.is_nan(x))))\n",
    "    ds = ds.map(split_window)\n",
    "    if multistep == True:\n",
    "        nums = np.zeros(170680)\n",
    "    else:\n",
    "        nums = np.random.randint(0, length/2-1, 170680)\n",
    "    mask = tf.sequence_mask(nums, length/2, dtype=tf.float32)\n",
    "    maskds = tf.data.Dataset.from_tensor_slices(mask)\n",
    "    ds = tf.data.Dataset.zip((ds, maskds))\n",
    "    ds = ds.map(mask_window).batch(batch_size)\n",
    "    ds = ds.apply(tf.data.experimental.assert_cardinality(170680//batch_size + 1))\n",
    "    train_ds, val_ds, test_ds = ttv_split(ds, 170680//batch_size, train_split=0.8, val_split=0.1, test_split=0.1)\n",
    "    train_ds = train_ds\n",
    "    return train_ds, val_ds, test_ds"
   ]
  },
  {
   "cell_type": "code",
   "execution_count": 3,
   "metadata": {},
   "outputs": [],
   "source": [
    "bs = 64\n",
    "train_data, val_data, transformer_test_data = make_dataset(df, 23, batch_size=bs)\n",
    "transformer_test_iter = iter(transformer_test_data)"
   ]
  },
  {
   "cell_type": "code",
   "execution_count": 4,
   "metadata": {},
   "outputs": [],
   "source": [
    "def ttv_split(ds: tf.data.Dataset, ds_size: int, \n",
    "              train_split: float = 0.8, \n",
    "              val_split: float = 0.1, \n",
    "              test_split: float = 0.1) -> Tuple[tf.data.Dataset, \n",
    "                                                tf.data.Dataset, \n",
    "                                                tf.data.Dataset]:\n",
    "\n",
    "    assert (train_split + test_split + val_split) == 1\n",
    "   \n",
    "    train_size = int(train_split * ds_size)\n",
    "    val_size = int(val_split * ds_size)\n",
    "    \n",
    "    train_ds = ds.take(train_size)    \n",
    "    val_ds = ds.skip(train_size).take(val_size)\n",
    "    test_ds = ds.skip(train_size).skip(val_size)\n",
    "    \n",
    "    return train_ds, val_ds, test_ds\n",
    "\n",
    "\n",
    "def mask_window(features: Tuple[Dict[tf.Tensor, tf.Tensor], tf.Tensor], \n",
    "                mask: tf.Tensor) -> Tuple[Dict[tf.Tensor, tf.Tensor], \n",
    "                                          tf.Tensor]:\n",
    "    inputs = features[0]\n",
    "    labels = features[1]\n",
    "    decoder_labels = tf.einsum('tf,t->tf', labels, mask)\n",
    "    mask = repeat(mask, 'i -> 1 i j', j=labels.shape[-2])\n",
    "    mask = tf.math.minimum(mask, rearrange(mask, '1 i j -> 1 j i'))\n",
    "    decoder_labels.set_shape([12, None])\n",
    "    mask.set_shape([None, 12, 12])\n",
    "    inputs.update({'decoder_labels':decoder_labels,\n",
    "                   'attention_mask':mask})\n",
    "    return inputs, labels\n",
    "\n",
    "\n",
    "def split_window(features: tf.Tensor) -> Tuple[Dict[tf.Tensor, tf.Tensor],\n",
    "                                               tf.Tensor]:\n",
    "    encoder_input = features[:12, 1:]\n",
    "    decoder_input = features[12:, 1:75]\n",
    "    paddings = tf.constant([[0, 0,], [0, 173]])\n",
    "    encoder_input = tf.concat([encoder_input, tf.pad(decoder_input, paddings, \"CONSTANT\")], axis=0)\n",
    "    labels = rearrange(features[11:, 0], 'a -> a 1')\n",
    "    decoder_input = features[11:, 1:75]\n",
    "    encoder_input.set_shape([23, 247])\n",
    "    decoder_input.set_shape([12, 74])\n",
    "    labels.set_shape([12, None])\n",
    "    \n",
    "\n",
    "    return {'encoder_inputs':encoder_input, 'decoder_inputs':decoder_input}, labels\n",
    "\n",
    "                        \n",
    "def make_dataset(data: pd.DataFrame, length: int, \n",
    "                 batch_size: int = 64, multistep: bool = True) -> Tuple[tf.data.Dataset, \n",
    "                                                                        tf.data.Dataset, \n",
    "                                                                        tf.data.Dataset]:\n",
    "    data = np.array(data.iloc[:, :], dtype=np.float32)\n",
    "    ds = tf.keras.utils.timeseries_dataset_from_array(data=data,\n",
    "                                                        targets=None,\n",
    "                                                        sequence_length=length,\n",
    "                                                        sequence_stride=1,\n",
    "                                                        shuffle=True,\n",
    "                                                        seed=1,\n",
    "                                                        batch_size=None)\n",
    "\n",
    "    ds = ds.filter(lambda x: tf.reduce_all(logical_not(tf.math.is_nan(x))))\n",
    "    ds = ds.map(split_window)\n",
    "    if multistep == True:\n",
    "        nums = np.zeros(170680)\n",
    "    else:\n",
    "        nums = np.random.randint(0, length/2-1, 170680)\n",
    "    mask = tf.sequence_mask(nums, length/2, dtype=tf.float32)\n",
    "    maskds = tf.data.Dataset.from_tensor_slices(mask)\n",
    "    ds = tf.data.Dataset.zip((ds, maskds))\n",
    "    ds = ds.map(mask_window).batch(batch_size)\n",
    "    ds = ds.apply(tf.data.experimental.assert_cardinality(170680//batch_size + 1))\n",
    "    train_ds, val_ds, test_ds = ttv_split(ds, 170680//batch_size, train_split=0.8, val_split=0.1, test_split=0.1)\n",
    "    train_ds = train_ds\n",
    "    return train_ds, val_ds, test_ds"
   ]
  },
  {
   "cell_type": "code",
   "execution_count": 5,
   "metadata": {},
   "outputs": [],
   "source": [
    "bs = 64\n",
    "train_data, val_data, park_test_data = make_dataset(df, 23, batch_size=bs)\n",
    "park_test_iter = iter(transformer_test_data)"
   ]
  },
  {
   "cell_type": "code",
   "execution_count": 6,
   "metadata": {},
   "outputs": [],
   "source": [
    "transformer = restore_model(\"model_folder/transformer_folder\", modeltype=\"transformer\")\n",
    "park = restore_model(\"model_folder/park_folder\", modeltype=\"transformer\")"
   ]
  },
  {
   "cell_type": "code",
   "execution_count": 7,
   "metadata": {},
   "outputs": [
    {
     "name": "stdout",
     "output_type": "stream",
     "text": [
      "269/269 [==============================] - 24s 19ms/step\n",
      "269/269 [==============================] - 17s 7ms/step\n"
     ]
    }
   ],
   "source": [
    "\n",
    "transformer_preds = transformer.predict(transformer_test_data)\n",
    "park_preds = park.predict(park_test_data)"
   ]
  },
  {
   "cell_type": "code",
   "execution_count": 8,
   "metadata": {},
   "outputs": [
    {
     "name": "stdout",
     "output_type": "stream",
     "text": [
      "269/269 [==============================] - 34s 40ms/step - loss: 5.6962e-04 - mse: 5.6962e-04 - mae: 0.0166 - r2: 0.9873 - explained_variance: 0.9873\n",
      "269/269 [==============================] - 27s 24ms/step - loss: 0.0098 - mse: 0.0098 - mae: 0.0641 - r2: 0.7994 - explained_variance: 0.8030\n"
     ]
    }
   ],
   "source": [
    "transformer_eval = transformer.evaluate(transformer_test_data)\n",
    "park_eval = park.evaluate(park_test_data)"
   ]
  },
  {
   "cell_type": "code",
   "execution_count": 9,
   "metadata": {},
   "outputs": [
    {
     "name": "stdout",
     "output_type": "stream",
     "text": [
      "[0.0005696180742233992, 0.0005696181324310601, 0.016568496823310852, 0.9872903823852539, 0.987346351146698]\n",
      "[0.009787644259631634, 0.009787646122276783, 0.06409888714551926, 0.7993772029876709, 0.8029744029045105]\n"
     ]
    }
   ],
   "source": [
    "print(transformer_eval)\n",
    "print(park_eval)"
   ]
  },
  {
   "cell_type": "code",
   "execution_count": 10,
   "metadata": {},
   "outputs": [
    {
     "name": "stdout",
     "output_type": "stream",
     "text": [
      "        MSE        MAE        R2    Exp. Variance\n",
      "-----------  ---------  --------  ---------------\n",
      "0.000569618  0.0165685  0.98729          0.987346\n",
      "0.00978765   0.0640989  0.799377         0.802974\n"
     ]
    }
   ],
   "source": [
    "from tabulate import tabulate\n",
    "table = [transformer_eval[1:], park_eval[1:]]\n",
    "headers = [\"MSE\", \"MAE\", \"R2\", \"Exp. Variance\"]\n",
    "print(tabulate(table, headers=headers))"
   ]
  },
  {
   "cell_type": "code",
   "execution_count": null,
   "metadata": {},
   "outputs": [],
   "source": []
  }
 ],
 "metadata": {
  "kernelspec": {
   "display_name": "plant_proj_venv",
   "language": "python",
   "name": "python3"
  },
  "language_info": {
   "codemirror_mode": {
    "name": "ipython",
    "version": 3
   },
   "file_extension": ".py",
   "mimetype": "text/x-python",
   "name": "python",
   "nbconvert_exporter": "python",
   "pygments_lexer": "ipython3",
   "version": "3.10.11"
  },
  "orig_nbformat": 4
 },
 "nbformat": 4,
 "nbformat_minor": 2
}
